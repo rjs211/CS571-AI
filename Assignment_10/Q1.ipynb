{
 "cells": [
  {
   "cell_type": "code",
   "execution_count": 1,
   "metadata": {},
   "outputs": [
    {
     "name": "stderr",
     "output_type": "stream",
     "text": [
      "Using TensorFlow backend.\n"
     ]
    }
   ],
   "source": [
    "import tensorflow as tf\n",
    "\n",
    "import keras as k\n",
    "import numpy as np\n",
    "from keras.utils.np_utils import to_categorical\n",
    "from sklearn.metrics import classification_report\n",
    "\n",
    "from keras.models import Sequential\n",
    "from keras.layers import Dense, Conv1D, MaxPooling1D, Flatten, Embedding,InputLayer\n",
    " "
   ]
  },
  {
   "cell_type": "code",
   "execution_count": 2,
   "metadata": {},
   "outputs": [],
   "source": [
    "def process_sentence(sent):\n",
    "    s = sent.strip().split()\n",
    "    sp = None\n",
    "    for i,word in enumerate(s):\n",
    "        if word == 'EOS':\n",
    "            sp = i\n",
    "            break\n",
    "    sent_tokens = s[1:sp]\n",
    "    label = s[-1]\n",
    "    return sent_tokens, label"
   ]
  },
  {
   "cell_type": "code",
   "execution_count": 3,
   "metadata": {},
   "outputs": [],
   "source": [
    "from nltk import FreqDist"
   ]
  },
  {
   "cell_type": "code",
   "execution_count": 4,
   "metadata": {},
   "outputs": [],
   "source": [
    "with open('ATIS_Train.txt','r')as fd:\n",
    "    data_tr = fd.readlines()"
   ]
  },
  {
   "cell_type": "code",
   "execution_count": 5,
   "metadata": {},
   "outputs": [],
   "source": [
    "with open('ATIS_Test.txt','r')as fd:\n",
    "    data_te = fd.readlines()"
   ]
  },
  {
   "cell_type": "code",
   "execution_count": 6,
   "metadata": {},
   "outputs": [],
   "source": [
    "x_tr_tokens = []\n",
    "y_tr = []\n",
    "x_te_tokens = []\n",
    "y_te = []\n",
    "\n",
    "for sent in data_tr:\n",
    "    s, l = process_sentence(sent)\n",
    "    x_tr_tokens.append(s)\n",
    "    y_tr.append(l)\n",
    "for sent in data_te:\n",
    "    s, l = process_sentence(sent)\n",
    "    x_te_tokens.append(s)\n",
    "    y_te.append(l)"
   ]
  },
  {
   "cell_type": "code",
   "execution_count": 7,
   "metadata": {},
   "outputs": [
    {
     "data": {
      "text/plain": [
       "893"
      ]
     },
     "execution_count": 7,
     "metadata": {},
     "output_type": "execute_result"
    }
   ],
   "source": [
    "len(x_te_tokens)"
   ]
  },
  {
   "cell_type": "code",
   "execution_count": 8,
   "metadata": {},
   "outputs": [],
   "source": [
    "cnt = 0\n",
    "for l in y_tr:\n",
    "    if '#' in l:\n",
    "        cnt+=1"
   ]
  },
  {
   "cell_type": "code",
   "execution_count": 9,
   "metadata": {},
   "outputs": [],
   "source": [
    "y_tr = [j.split('#')[0] for j in y_tr ]"
   ]
  },
  {
   "cell_type": "code",
   "execution_count": 10,
   "metadata": {},
   "outputs": [],
   "source": [
    "y_te = [j.split('#')[0] for j in y_te ]"
   ]
  },
  {
   "cell_type": "code",
   "execution_count": 11,
   "metadata": {},
   "outputs": [],
   "source": [
    "all_tokens = sum(x_tr_tokens,[])"
   ]
  },
  {
   "cell_type": "code",
   "execution_count": 12,
   "metadata": {},
   "outputs": [],
   "source": [
    "fdist = FreqDist(all_tokens)"
   ]
  },
  {
   "cell_type": "code",
   "execution_count": 13,
   "metadata": {},
   "outputs": [
    {
     "data": {
      "text/plain": [
       "4978"
      ]
     },
     "execution_count": 13,
     "metadata": {},
     "output_type": "execute_result"
    }
   ],
   "source": [
    "x_tr_tokens.__len__()"
   ]
  },
  {
   "cell_type": "code",
   "execution_count": 14,
   "metadata": {},
   "outputs": [
    {
     "data": {
      "text/plain": [
       "('scenario', 1)"
      ]
     },
     "execution_count": 14,
     "metadata": {},
     "output_type": "execute_result"
    }
   ],
   "source": [
    "fdist.most_common(4000)[-1]"
   ]
  },
  {
   "cell_type": "code",
   "execution_count": 15,
   "metadata": {},
   "outputs": [],
   "source": [
    "vocab = set(all_tokens)"
   ]
  },
  {
   "cell_type": "code",
   "execution_count": 16,
   "metadata": {},
   "outputs": [],
   "source": [
    "word2idx = dict()"
   ]
  },
  {
   "cell_type": "code",
   "execution_count": 17,
   "metadata": {},
   "outputs": [],
   "source": [
    "lab2ids = {lab:i for i,lab in enumerate(set(y_tr))}"
   ]
  },
  {
   "cell_type": "code",
   "execution_count": 18,
   "metadata": {},
   "outputs": [
    {
     "data": {
      "text/plain": [
       "{'atis_airport': 0,\n",
       " 'atis_ground_service': 1,\n",
       " 'atis_flight_no': 2,\n",
       " 'atis_cheapest': 3,\n",
       " 'atis_airfare': 4,\n",
       " 'atis_quantity': 5,\n",
       " 'atis_distance': 6,\n",
       " 'atis_capacity': 7,\n",
       " 'atis_restriction': 8,\n",
       " 'atis_flight_time': 9,\n",
       " 'atis_abbreviation': 10,\n",
       " 'atis_city': 11,\n",
       " 'atis_airline': 12,\n",
       " 'atis_flight': 13,\n",
       " 'atis_meal': 14,\n",
       " 'atis_aircraft': 15,\n",
       " 'atis_ground_fare': 16}"
      ]
     },
     "execution_count": 18,
     "metadata": {},
     "output_type": "execute_result"
    }
   ],
   "source": [
    "lab2ids"
   ]
  },
  {
   "cell_type": "code",
   "execution_count": 19,
   "metadata": {},
   "outputs": [],
   "source": [
    "word2idx['<pad>'] = 0\n",
    "word2idx['<unk>'] = 1"
   ]
  },
  {
   "cell_type": "code",
   "execution_count": 20,
   "metadata": {},
   "outputs": [],
   "source": [
    "for i,word in enumerate(vocab):\n",
    "    word2idx[word]=i+2"
   ]
  },
  {
   "cell_type": "code",
   "execution_count": 21,
   "metadata": {},
   "outputs": [],
   "source": [
    "mxlen=0\n",
    "for sent in x_tr_tokens:\n",
    "    mxlen = max(len(sent),mxlen)"
   ]
  },
  {
   "cell_type": "code",
   "execution_count": 22,
   "metadata": {},
   "outputs": [],
   "source": [
    "x_tr_ids = [ [word2idx[word] for word in sent] for sent in x_tr_tokens ]"
   ]
  },
  {
   "cell_type": "code",
   "execution_count": 23,
   "metadata": {},
   "outputs": [],
   "source": [
    "x_te_ids = [ [word2idx.get(word,1) for word in sent] for sent in x_te_tokens ]"
   ]
  },
  {
   "cell_type": "code",
   "execution_count": 24,
   "metadata": {},
   "outputs": [],
   "source": [
    "y_tr_idx = np.asarray([lab2ids[lab] for lab in y_tr ])\n",
    "y_te_idx = np.asarray([lab2ids.get(lab,0) for lab in y_te ])"
   ]
  },
  {
   "cell_type": "code",
   "execution_count": 25,
   "metadata": {},
   "outputs": [],
   "source": [
    "x_tr_ids_pad = []\n",
    "for sent in x_tr_ids:\n",
    "    ln = len(sent)\n",
    "    toadd = mxlen-ln\n",
    "    new = [0]*toadd\n",
    "    new = sent+new\n",
    "    x_tr_ids_pad.append(np.asarray(new,dtype = np.int32))"
   ]
  },
  {
   "cell_type": "code",
   "execution_count": 26,
   "metadata": {},
   "outputs": [],
   "source": [
    "x_te_ids_pad = []\n",
    "for sent in x_te_ids:\n",
    "    sent = sent[:mxlen]\n",
    "    ln = len(sent)\n",
    "    toadd = mxlen-ln\n",
    "    new = [0]*toadd\n",
    "    new = sent+new\n",
    "    x_te_ids_pad.append(np.asarray(new,dtype = np.int32))"
   ]
  },
  {
   "cell_type": "code",
   "execution_count": 27,
   "metadata": {},
   "outputs": [],
   "source": [
    "x_te_ids_pad = np.asarray(x_te_ids_pad)\n",
    "x_tr_ids_pad = np.asarray(x_tr_ids_pad)"
   ]
  },
  {
   "cell_type": "code",
   "execution_count": 29,
   "metadata": {},
   "outputs": [
    {
     "data": {
      "text/plain": [
       "(893, 46)"
      ]
     },
     "execution_count": 29,
     "metadata": {},
     "output_type": "execute_result"
    }
   ],
   "source": [
    "x_te_ids_pad.shape"
   ]
  },
  {
   "cell_type": "code",
   "execution_count": 30,
   "metadata": {},
   "outputs": [
    {
     "data": {
      "text/plain": [
       "(4978, 46)"
      ]
     },
     "execution_count": 30,
     "metadata": {},
     "output_type": "execute_result"
    }
   ],
   "source": [
    "x_tr_ids_pad.shape"
   ]
  },
  {
   "cell_type": "code",
   "execution_count": 31,
   "metadata": {},
   "outputs": [],
   "source": [
    "y_tr_cat = to_categorical(y_tr_idx, num_classes=17)\n",
    "y_te_cat = to_categorical(y_te_idx, num_classes=17)"
   ]
  },
  {
   "cell_type": "code",
   "execution_count": 32,
   "metadata": {},
   "outputs": [
    {
     "name": "stdout",
     "output_type": "stream",
     "text": [
      "binary with sigmoid\n",
      "Model: \"sequential_1\"\n",
      "_________________________________________________________________\n",
      "Layer (type)                 Output Shape              Param #   \n",
      "=================================================================\n",
      "embedding_1 (Embedding)      (None, 46, 100)           90000     \n",
      "_________________________________________________________________\n",
      "conv1d_1 (Conv1D)            (None, 42, 64)            32064     \n",
      "_________________________________________________________________\n",
      "max_pooling1d_1 (MaxPooling1 (None, 8, 64)             0         \n",
      "_________________________________________________________________\n",
      "flatten_1 (Flatten)          (None, 512)               0         \n",
      "_________________________________________________________________\n",
      "dense_1 (Dense)              (None, 64)                32832     \n",
      "_________________________________________________________________\n",
      "dense_2 (Dense)              (None, 17)                1105      \n",
      "=================================================================\n",
      "Total params: 156,001\n",
      "Trainable params: 156,001\n",
      "Non-trainable params: 0\n",
      "_________________________________________________________________\n",
      "None\n"
     ]
    },
    {
     "name": "stderr",
     "output_type": "stream",
     "text": [
      "/home/stud/btech/cse/2016/rsrivatsa.cs16/miniconda3/envs/myenv/lib/python3.6/site-packages/tensorflow_core/python/framework/indexed_slices.py:424: UserWarning: Converting sparse IndexedSlices to a dense Tensor of unknown shape. This may consume a large amount of memory.\n",
      "  \"Converting sparse IndexedSlices to a dense Tensor of unknown shape. \"\n"
     ]
    },
    {
     "name": "stdout",
     "output_type": "stream",
     "text": [
      "Train on 3982 samples, validate on 996 samples\n",
      "Epoch 1/3\n",
      "3982/3982 [==============================] - 1s 277us/step - loss: 0.6537 - accuracy: 0.7395 - val_loss: 0.5700 - val_accuracy: 0.8798\n",
      "Epoch 2/3\n",
      "3982/3982 [==============================] - 0s 62us/step - loss: 0.4514 - accuracy: 0.9435 - val_loss: 0.2721 - val_accuracy: 0.9681\n",
      "Epoch 3/3\n",
      "3982/3982 [==============================] - 0s 63us/step - loss: 0.1775 - accuracy: 0.9698 - val_loss: 0.1166 - val_accuracy: 0.9681\n",
      "893/893 [==============================] - 0s 46us/step\n",
      "Accuracy: 0.9673275351524353\n"
     ]
    }
   ],
   "source": [
    "act = [('relu','relu'),('','relu'),('relu','relu'),('relu','relu')]\n",
    "print('binary with sigmoid')\n",
    "model = Sequential()\n",
    "model.add(InputLayer(input_shape=(mxlen,)))\n",
    "model.add(Embedding(len(word2idx),100))\n",
    "model.add(Conv1D(64, 5, activation='relu'))\n",
    "model.add(MaxPooling1D(5))\n",
    "model.add(Flatten())\n",
    "model.add(Dense(units=64, activation='relu'))\n",
    "model.add(Dense(units=17, activation='sigmoid'))\n",
    " \n",
    "model.compile(loss='binary_crossentropy', optimizer='adam', metrics=['accuracy'])\n",
    "print(model.summary())\n",
    "\n",
    "model.fit(x_tr_ids_pad, y_tr_cat, \n",
    "          epochs=3, batch_size=512, verbose=1,\n",
    "          validation_split=0.2)\n",
    " \n",
    "\n",
    "\n",
    "scores = model.evaluate(x_te_ids_pad, y_te_cat, verbose=1)\n",
    "print(\"Accuracy:\", scores[1]) \n"
   ]
  },
  {
   "cell_type": "code",
   "execution_count": 47,
   "metadata": {},
   "outputs": [
    {
     "name": "stdout",
     "output_type": "stream",
     "text": [
      "categorical with softmax\n",
      "Model: \"sequential_5\"\n",
      "_________________________________________________________________\n",
      "Layer (type)                 Output Shape              Param #   \n",
      "=================================================================\n",
      "embedding_5 (Embedding)      (None, 46, 100)           90000     \n",
      "_________________________________________________________________\n",
      "conv1d_5 (Conv1D)            (None, 42, 64)            32064     \n",
      "_________________________________________________________________\n",
      "max_pooling1d_5 (MaxPooling1 (None, 8, 64)             0         \n",
      "_________________________________________________________________\n",
      "flatten_5 (Flatten)          (None, 512)               0         \n",
      "_________________________________________________________________\n",
      "dense_9 (Dense)              (None, 64)                32832     \n",
      "_________________________________________________________________\n",
      "dense_10 (Dense)             (None, 17)                1105      \n",
      "=================================================================\n",
      "Total params: 156,001\n",
      "Trainable params: 156,001\n",
      "Non-trainable params: 0\n",
      "_________________________________________________________________\n",
      "None\n"
     ]
    },
    {
     "name": "stderr",
     "output_type": "stream",
     "text": [
      "/home/stud/btech/cse/2016/rsrivatsa.cs16/miniconda3/envs/myenv/lib/python3.6/site-packages/tensorflow_core/python/framework/indexed_slices.py:424: UserWarning: Converting sparse IndexedSlices to a dense Tensor of unknown shape. This may consume a large amount of memory.\n",
      "  \"Converting sparse IndexedSlices to a dense Tensor of unknown shape. \"\n"
     ]
    },
    {
     "name": "stdout",
     "output_type": "stream",
     "text": [
      "893/893 [==============================] - 0s 35us/step\n",
      "Accuracy of config ('relu', 'relu'):0.9440089464187622\n",
      "                     precision    recall  f1-score   support\n",
      "\n",
      "       atis_airport       0.94      0.75      0.83        20\n",
      "atis_ground_service       0.97      1.00      0.99        36\n",
      "     atis_flight_no       0.00      0.00      0.00         9\n",
      "      atis_cheapest       0.94      0.98      0.96        49\n",
      "       atis_airfare       0.30      1.00      0.46         3\n",
      "      atis_quantity       1.00      0.60      0.75        10\n",
      "      atis_distance       0.94      0.81      0.87        21\n",
      "      atis_capacity       0.20      1.00      0.33         1\n",
      "   atis_restriction       0.97      1.00      0.99        33\n",
      "   atis_flight_time       0.00      0.00      0.00         6\n",
      "  atis_abbreviation       0.93      0.97      0.95        38\n",
      "          atis_city       0.96      0.99      0.97       645\n",
      "       atis_airline       0.00      0.00      0.00         6\n",
      "        atis_flight       0.83      0.56      0.67         9\n",
      "          atis_meal       0.62      0.71      0.67         7\n",
      "\n",
      "           accuracy                           0.94       893\n",
      "          macro avg       0.64      0.69      0.63       893\n",
      "       weighted avg       0.93      0.94      0.93       893\n",
      "\n",
      "Model: \"sequential_6\"\n",
      "_________________________________________________________________\n",
      "Layer (type)                 Output Shape              Param #   \n",
      "=================================================================\n",
      "embedding_6 (Embedding)      (None, 46, 100)           90000     \n",
      "_________________________________________________________________\n",
      "conv1d_6 (Conv1D)            (None, 42, 64)            32064     \n",
      "_________________________________________________________________\n",
      "max_pooling1d_6 (MaxPooling1 (None, 8, 64)             0         \n",
      "_________________________________________________________________\n",
      "flatten_6 (Flatten)          (None, 512)               0         \n",
      "_________________________________________________________________\n",
      "dense_11 (Dense)             (None, 64)                32832     \n",
      "_________________________________________________________________\n",
      "dense_12 (Dense)             (None, 17)                1105      \n",
      "=================================================================\n",
      "Total params: 156,001\n",
      "Trainable params: 156,001\n",
      "Non-trainable params: 0\n",
      "_________________________________________________________________\n",
      "None\n"
     ]
    },
    {
     "name": "stderr",
     "output_type": "stream",
     "text": [
      "/home/stud/btech/cse/2016/rsrivatsa.cs16/miniconda3/envs/myenv/lib/python3.6/site-packages/sklearn/metrics/classification.py:1870: UserWarning: labels size, 15, does not match size of target_names, 16\n",
      "  .format(len(labels), len(target_names))\n",
      "/home/stud/btech/cse/2016/rsrivatsa.cs16/miniconda3/envs/myenv/lib/python3.6/site-packages/sklearn/metrics/classification.py:1437: UndefinedMetricWarning: Precision and F-score are ill-defined and being set to 0.0 in labels with no predicted samples.\n",
      "  'precision', 'predicted', average, warn_for)\n",
      "/home/stud/btech/cse/2016/rsrivatsa.cs16/miniconda3/envs/myenv/lib/python3.6/site-packages/tensorflow_core/python/framework/indexed_slices.py:424: UserWarning: Converting sparse IndexedSlices to a dense Tensor of unknown shape. This may consume a large amount of memory.\n",
      "  \"Converting sparse IndexedSlices to a dense Tensor of unknown shape. \"\n"
     ]
    },
    {
     "name": "stdout",
     "output_type": "stream",
     "text": [
      "893/893 [==============================] - 0s 36us/step\n",
      "Accuracy of config ('tanh', 'relu'):0.8902575373649597\n",
      "                     precision    recall  f1-score   support\n",
      "\n",
      "       atis_airport       1.00      0.15      0.26        20\n",
      "atis_ground_service       0.67      0.97      0.80        36\n",
      "     atis_flight_no       0.00      0.00      0.00         9\n",
      "      atis_cheapest       0.73      0.92      0.81        49\n",
      "       atis_airfare       0.00      0.00      0.00         3\n",
      "      atis_quantity       0.00      0.00      0.00        10\n",
      "      atis_distance       1.00      0.05      0.09        21\n",
      "      atis_capacity       0.17      1.00      0.29         1\n",
      "   atis_restriction       0.79      1.00      0.88        33\n",
      "   atis_flight_time       0.00      0.00      0.00         6\n",
      "  atis_abbreviation       0.89      0.87      0.88        38\n",
      "          atis_city       0.95      0.99      0.97       645\n",
      "       atis_airline       0.00      0.00      0.00         6\n",
      "        atis_flight       0.45      0.56      0.50         9\n",
      "          atis_meal       0.00      0.00      0.00         7\n",
      "\n",
      "           accuracy                           0.89       893\n",
      "          macro avg       0.44      0.43      0.36       893\n",
      "       weighted avg       0.87      0.89      0.86       893\n",
      "\n"
     ]
    },
    {
     "name": "stderr",
     "output_type": "stream",
     "text": [
      "/home/stud/btech/cse/2016/rsrivatsa.cs16/miniconda3/envs/myenv/lib/python3.6/site-packages/sklearn/metrics/classification.py:1870: UserWarning: labels size, 15, does not match size of target_names, 16\n",
      "  .format(len(labels), len(target_names))\n",
      "/home/stud/btech/cse/2016/rsrivatsa.cs16/miniconda3/envs/myenv/lib/python3.6/site-packages/sklearn/metrics/classification.py:1437: UndefinedMetricWarning: Precision and F-score are ill-defined and being set to 0.0 in labels with no predicted samples.\n",
      "  'precision', 'predicted', average, warn_for)\n"
     ]
    },
    {
     "name": "stdout",
     "output_type": "stream",
     "text": [
      "Model: \"sequential_7\"\n",
      "_________________________________________________________________\n",
      "Layer (type)                 Output Shape              Param #   \n",
      "=================================================================\n",
      "embedding_7 (Embedding)      (None, 46, 100)           90000     \n",
      "_________________________________________________________________\n",
      "conv1d_7 (Conv1D)            (None, 42, 64)            32064     \n",
      "_________________________________________________________________\n",
      "max_pooling1d_7 (MaxPooling1 (None, 8, 64)             0         \n",
      "_________________________________________________________________\n",
      "flatten_7 (Flatten)          (None, 512)               0         \n",
      "_________________________________________________________________\n",
      "dense_13 (Dense)             (None, 64)                32832     \n",
      "_________________________________________________________________\n",
      "dense_14 (Dense)             (None, 17)                1105      \n",
      "=================================================================\n",
      "Total params: 156,001\n",
      "Trainable params: 156,001\n",
      "Non-trainable params: 0\n",
      "_________________________________________________________________\n",
      "None\n"
     ]
    },
    {
     "name": "stderr",
     "output_type": "stream",
     "text": [
      "/home/stud/btech/cse/2016/rsrivatsa.cs16/miniconda3/envs/myenv/lib/python3.6/site-packages/tensorflow_core/python/framework/indexed_slices.py:424: UserWarning: Converting sparse IndexedSlices to a dense Tensor of unknown shape. This may consume a large amount of memory.\n",
      "  \"Converting sparse IndexedSlices to a dense Tensor of unknown shape. \"\n"
     ]
    },
    {
     "name": "stdout",
     "output_type": "stream",
     "text": [
      "893/893 [==============================] - 0s 37us/step\n",
      "Accuracy of config ('tanh', 'tanh'):0.8947368264198303\n",
      "                     precision    recall  f1-score   support\n",
      "\n",
      "       atis_airport       0.00      0.00      0.00        20\n",
      "atis_ground_service       0.72      1.00      0.84        36\n",
      "     atis_flight_no       0.00      0.00      0.00         9\n",
      "      atis_cheapest       0.87      0.80      0.83        49\n",
      "       atis_airfare       0.17      0.33      0.22         3\n",
      "      atis_quantity       0.00      0.00      0.00        10\n",
      "      atis_distance       1.00      0.38      0.55        21\n",
      "      atis_capacity       0.00      0.00      0.00         1\n",
      "   atis_restriction       0.70      1.00      0.82        33\n",
      "   atis_flight_time       0.50      0.33      0.40         6\n",
      "  atis_abbreviation       0.94      0.89      0.92        38\n",
      "          atis_city       0.93      0.99      0.96       645\n",
      "       atis_airline       0.00      0.00      0.00         6\n",
      "        atis_flight       0.56      0.56      0.56         9\n",
      "          atis_meal       0.75      0.43      0.55         7\n",
      "\n",
      "           accuracy                           0.89       893\n",
      "          macro avg       0.48      0.45      0.44       893\n",
      "       weighted avg       0.86      0.89      0.87       893\n",
      "\n",
      "Model: \"sequential_8\"\n",
      "_________________________________________________________________\n",
      "Layer (type)                 Output Shape              Param #   \n",
      "=================================================================\n",
      "embedding_8 (Embedding)      (None, 46, 100)           90000     \n",
      "_________________________________________________________________\n",
      "conv1d_8 (Conv1D)            (None, 42, 64)            32064     \n",
      "_________________________________________________________________\n",
      "max_pooling1d_8 (MaxPooling1 (None, 8, 64)             0         \n",
      "_________________________________________________________________\n",
      "flatten_8 (Flatten)          (None, 512)               0         \n",
      "_________________________________________________________________\n",
      "dense_15 (Dense)             (None, 64)                32832     \n",
      "_________________________________________________________________\n",
      "dense_16 (Dense)             (None, 17)                1105      \n",
      "=================================================================\n",
      "Total params: 156,001\n",
      "Trainable params: 156,001\n",
      "Non-trainable params: 0\n",
      "_________________________________________________________________\n",
      "None\n"
     ]
    },
    {
     "name": "stderr",
     "output_type": "stream",
     "text": [
      "/home/stud/btech/cse/2016/rsrivatsa.cs16/miniconda3/envs/myenv/lib/python3.6/site-packages/sklearn/metrics/classification.py:1870: UserWarning: labels size, 15, does not match size of target_names, 16\n",
      "  .format(len(labels), len(target_names))\n",
      "/home/stud/btech/cse/2016/rsrivatsa.cs16/miniconda3/envs/myenv/lib/python3.6/site-packages/sklearn/metrics/classification.py:1437: UndefinedMetricWarning: Precision and F-score are ill-defined and being set to 0.0 in labels with no predicted samples.\n",
      "  'precision', 'predicted', average, warn_for)\n",
      "/home/stud/btech/cse/2016/rsrivatsa.cs16/miniconda3/envs/myenv/lib/python3.6/site-packages/tensorflow_core/python/framework/indexed_slices.py:424: UserWarning: Converting sparse IndexedSlices to a dense Tensor of unknown shape. This may consume a large amount of memory.\n",
      "  \"Converting sparse IndexedSlices to a dense Tensor of unknown shape. \"\n"
     ]
    },
    {
     "name": "stdout",
     "output_type": "stream",
     "text": [
      "893/893 [==============================] - 0s 42us/step\n",
      "Accuracy of config ('relu', 'tanh'):0.9316909313201904\n",
      "                     precision    recall  f1-score   support\n",
      "\n",
      "       atis_airport       1.00      0.20      0.33        20\n",
      "atis_ground_service       0.78      1.00      0.88        36\n",
      "     atis_flight_no       0.00      0.00      0.00         9\n",
      "      atis_cheapest       0.94      1.00      0.97        49\n",
      "       atis_airfare       0.30      1.00      0.46         3\n",
      "      atis_quantity       0.75      0.60      0.67        10\n",
      "      atis_distance       0.88      0.71      0.79        21\n",
      "      atis_capacity       0.33      1.00      0.50         1\n",
      "   atis_restriction       1.00      1.00      1.00        33\n",
      "   atis_flight_time       0.00      0.00      0.00         6\n",
      "  atis_abbreviation       0.95      0.97      0.96        38\n",
      "          atis_city       0.96      0.99      0.97       645\n",
      "       atis_airline       0.00      0.00      0.00         6\n",
      "        atis_flight       1.00      0.67      0.80         9\n",
      "          atis_meal       0.80      0.57      0.67         7\n",
      "\n",
      "           accuracy                           0.93       893\n",
      "          macro avg       0.65      0.65      0.60       893\n",
      "       weighted avg       0.92      0.93      0.92       893\n",
      "\n"
     ]
    },
    {
     "name": "stderr",
     "output_type": "stream",
     "text": [
      "/home/stud/btech/cse/2016/rsrivatsa.cs16/miniconda3/envs/myenv/lib/python3.6/site-packages/sklearn/metrics/classification.py:1870: UserWarning: labels size, 15, does not match size of target_names, 16\n",
      "  .format(len(labels), len(target_names))\n",
      "/home/stud/btech/cse/2016/rsrivatsa.cs16/miniconda3/envs/myenv/lib/python3.6/site-packages/sklearn/metrics/classification.py:1437: UndefinedMetricWarning: Precision and F-score are ill-defined and being set to 0.0 in labels with no predicted samples.\n",
      "  'precision', 'predicted', average, warn_for)\n"
     ]
    }
   ],
   "source": [
    "act = [('relu','relu'),('tanh','relu'),('tanh','tanh'),('relu','tanh')]\n",
    "print('categorical with softmax')\n",
    "for cfg in act:\n",
    "    model = Sequential()\n",
    "    model.add(InputLayer(input_shape=(mxlen,)))\n",
    "    model.add(Embedding(len(word2idx),100))\n",
    "    model.add(Conv1D(64, 5, activation=cfg[0]))\n",
    "    model.add(MaxPooling1D(5))\n",
    "    model.add(Flatten())\n",
    "    model.add(Dense(units=64, activation=cfg[1]))++\n",
    "    model.add(Dense(units=17, activation='softmax'))\n",
    "\n",
    "    model.compile(loss='categorical_crossentropy', optimizer='adam', metrics=['accuracy'])\n",
    "    print(model.summary())\n",
    "\n",
    "    model.fit(x_tr_ids_pad, y_tr_cat, \n",
    "              epochs=30, batch_size=512, verbose=0,\n",
    "              validation_split=0.2)\n",
    "\n",
    "\n",
    "\n",
    "    scores = model.evaluate(x_te_ids_pad, y_te_cat, verbose=1)\n",
    "    y_hat = model.predict(x_te_ids_pad)\n",
    "\n",
    "    print(\"Accuracy of config {}:{}\".format(cfg, scores[1]))\n",
    "    get_report(y_te_cat,y_hat,tar_names)"
   ]
  },
  {
   "cell_type": "code",
   "execution_count": 34,
   "metadata": {},
   "outputs": [],
   "source": [
    "def get_report(y_true,y_hat,target_names):\n",
    "    y_h = np.argmax(y_hat,axis=1)\n",
    "    y_t = np.argmax(y_true,axis=1)\n",
    "    print(classification_report(y_t, y_h, target_names=target_names[:16],labels = list(set(y_t))))"
   ]
  },
  {
   "cell_type": "code",
   "execution_count": 35,
   "metadata": {},
   "outputs": [
    {
     "name": "stdout",
     "output_type": "stream",
     "text": [
      "Requirement already satisfied: scipy in /home/stud/btech/cse/2016/rsrivatsa.cs16/miniconda3/envs/myenv/lib/python3.6/site-packages (1.3.2)\r\n",
      "Requirement already satisfied: numpy>=1.13.3 in /home/stud/btech/cse/2016/rsrivatsa.cs16/miniconda3/envs/myenv/lib/python3.6/site-packages (from scipy) (1.17.4)\r\n"
     ]
    }
   ],
   "source": [
    "! pip install scipy"
   ]
  },
  {
   "cell_type": "code",
   "execution_count": 36,
   "metadata": {},
   "outputs": [
    {
     "data": {
      "text/plain": [
       "(893,)"
      ]
     },
     "execution_count": 36,
     "metadata": {},
     "output_type": "execute_result"
    }
   ],
   "source": [
    "np.argmax(y_hat,axis=1).shape"
   ]
  },
  {
   "cell_type": "code",
   "execution_count": 37,
   "metadata": {},
   "outputs": [],
   "source": [
    "idx2lab = {j:i for i,j in lab2ids.items()}"
   ]
  },
  {
   "cell_type": "code",
   "execution_count": 38,
   "metadata": {},
   "outputs": [],
   "source": [
    "tar_names = list(idx2lab.values())"
   ]
  },
  {
   "cell_type": "code",
   "execution_count": 39,
   "metadata": {},
   "outputs": [
    {
     "data": {
      "text/plain": [
       "(893, 17)"
      ]
     },
     "execution_count": 39,
     "metadata": {},
     "output_type": "execute_result"
    }
   ],
   "source": [
    "y_hat.shape"
   ]
  },
  {
   "cell_type": "code",
   "execution_count": 40,
   "metadata": {},
   "outputs": [
    {
     "data": {
      "text/plain": [
       "(893, 17)"
      ]
     },
     "execution_count": 40,
     "metadata": {},
     "output_type": "execute_result"
    }
   ],
   "source": [
    "y_te_cat.shape"
   ]
  },
  {
   "cell_type": "code",
   "execution_count": 49,
   "metadata": {
    "scrolled": true
   },
   "outputs": [
    {
     "name": "stdout",
     "output_type": "stream",
     "text": [
      "categorical with softmax\n",
      "Model: \"sequential_10\"\n",
      "_________________________________________________________________\n",
      "Layer (type)                 Output Shape              Param #   \n",
      "=================================================================\n",
      "embedding_10 (Embedding)     (None, 46, 100)           90000     \n",
      "_________________________________________________________________\n",
      "conv1d_10 (Conv1D)           (None, 42, 64)            32064     \n",
      "_________________________________________________________________\n",
      "max_pooling1d_10 (MaxPooling (None, 8, 64)             0         \n",
      "_________________________________________________________________\n",
      "flatten_10 (Flatten)         (None, 512)               0         \n",
      "_________________________________________________________________\n",
      "dense_19 (Dense)             (None, 64)                32832     \n",
      "_________________________________________________________________\n",
      "dense_20 (Dense)             (None, 17)                1105      \n",
      "=================================================================\n",
      "Total params: 156,001\n",
      "Trainable params: 156,001\n",
      "Non-trainable params: 0\n",
      "_________________________________________________________________\n",
      "None\n"
     ]
    },
    {
     "name": "stderr",
     "output_type": "stream",
     "text": [
      "/home/stud/btech/cse/2016/rsrivatsa.cs16/miniconda3/envs/myenv/lib/python3.6/site-packages/tensorflow_core/python/framework/indexed_slices.py:424: UserWarning: Converting sparse IndexedSlices to a dense Tensor of unknown shape. This may consume a large amount of memory.\n",
      "  \"Converting sparse IndexedSlices to a dense Tensor of unknown shape. \"\n"
     ]
    },
    {
     "name": "stdout",
     "output_type": "stream",
     "text": [
      "893/893 [==============================] - 0s 49us/step\n",
      "Accuracy of config ('relu', 'relu'):0.7222844362258911\n",
      "                     precision    recall  f1-score   support\n",
      "\n",
      "       atis_airport       0.00      0.00      0.00        20\n",
      "atis_ground_service       0.00      0.00      0.00        36\n",
      "     atis_flight_no       0.00      0.00      0.00         9\n",
      "      atis_cheapest       0.00      0.00      0.00        49\n",
      "       atis_airfare       0.00      0.00      0.00         3\n",
      "      atis_quantity       0.00      0.00      0.00        10\n",
      "      atis_distance       0.00      0.00      0.00        21\n",
      "      atis_capacity       0.00      0.00      0.00         1\n",
      "   atis_restriction       0.00      0.00      0.00        33\n",
      "   atis_flight_time       0.00      0.00      0.00         6\n",
      "  atis_abbreviation       0.00      0.00      0.00        38\n",
      "          atis_city       0.72      1.00      0.84       645\n",
      "       atis_airline       0.00      0.00      0.00         6\n",
      "        atis_flight       0.00      0.00      0.00         9\n",
      "          atis_meal       0.00      0.00      0.00         7\n",
      "\n",
      "           accuracy                           0.72       893\n",
      "          macro avg       0.05      0.07      0.06       893\n",
      "       weighted avg       0.52      0.72      0.61       893\n",
      "\n"
     ]
    },
    {
     "name": "stderr",
     "output_type": "stream",
     "text": [
      "/home/stud/btech/cse/2016/rsrivatsa.cs16/miniconda3/envs/myenv/lib/python3.6/site-packages/sklearn/metrics/classification.py:1870: UserWarning: labels size, 15, does not match size of target_names, 16\n",
      "  .format(len(labels), len(target_names))\n",
      "/home/stud/btech/cse/2016/rsrivatsa.cs16/miniconda3/envs/myenv/lib/python3.6/site-packages/sklearn/metrics/classification.py:1437: UndefinedMetricWarning: Precision and F-score are ill-defined and being set to 0.0 in labels with no predicted samples.\n",
      "  'precision', 'predicted', average, warn_for)\n"
     ]
    },
    {
     "name": "stdout",
     "output_type": "stream",
     "text": [
      "Model: \"sequential_11\"\n",
      "_________________________________________________________________\n",
      "Layer (type)                 Output Shape              Param #   \n",
      "=================================================================\n",
      "embedding_11 (Embedding)     (None, 46, 100)           90000     \n",
      "_________________________________________________________________\n",
      "conv1d_11 (Conv1D)           (None, 42, 64)            32064     \n",
      "_________________________________________________________________\n",
      "max_pooling1d_11 (MaxPooling (None, 8, 64)             0         \n",
      "_________________________________________________________________\n",
      "flatten_11 (Flatten)         (None, 512)               0         \n",
      "_________________________________________________________________\n",
      "dense_21 (Dense)             (None, 64)                32832     \n",
      "_________________________________________________________________\n",
      "dense_22 (Dense)             (None, 17)                1105      \n",
      "=================================================================\n",
      "Total params: 156,001\n",
      "Trainable params: 156,001\n",
      "Non-trainable params: 0\n",
      "_________________________________________________________________\n",
      "None\n"
     ]
    },
    {
     "name": "stderr",
     "output_type": "stream",
     "text": [
      "/home/stud/btech/cse/2016/rsrivatsa.cs16/miniconda3/envs/myenv/lib/python3.6/site-packages/tensorflow_core/python/framework/indexed_slices.py:424: UserWarning: Converting sparse IndexedSlices to a dense Tensor of unknown shape. This may consume a large amount of memory.\n",
      "  \"Converting sparse IndexedSlices to a dense Tensor of unknown shape. \"\n"
     ]
    },
    {
     "name": "stdout",
     "output_type": "stream",
     "text": [
      "893/893 [==============================] - 0s 51us/step\n",
      "Accuracy of config ('tanh', 'relu'):0.7222844362258911\n",
      "                     precision    recall  f1-score   support\n",
      "\n",
      "       atis_airport       0.00      0.00      0.00        20\n",
      "atis_ground_service       0.00      0.00      0.00        36\n",
      "     atis_flight_no       0.00      0.00      0.00         9\n",
      "      atis_cheapest       0.00      0.00      0.00        49\n",
      "       atis_airfare       0.00      0.00      0.00         3\n",
      "      atis_quantity       0.00      0.00      0.00        10\n",
      "      atis_distance       0.00      0.00      0.00        21\n",
      "      atis_capacity       0.00      0.00      0.00         1\n",
      "   atis_restriction       0.00      0.00      0.00        33\n",
      "   atis_flight_time       0.00      0.00      0.00         6\n",
      "  atis_abbreviation       0.00      0.00      0.00        38\n",
      "          atis_city       0.72      1.00      0.84       645\n",
      "       atis_airline       0.00      0.00      0.00         6\n",
      "        atis_flight       0.00      0.00      0.00         9\n",
      "          atis_meal       0.00      0.00      0.00         7\n",
      "\n",
      "           accuracy                           0.72       893\n",
      "          macro avg       0.05      0.07      0.06       893\n",
      "       weighted avg       0.52      0.72      0.61       893\n",
      "\n"
     ]
    },
    {
     "name": "stderr",
     "output_type": "stream",
     "text": [
      "/home/stud/btech/cse/2016/rsrivatsa.cs16/miniconda3/envs/myenv/lib/python3.6/site-packages/sklearn/metrics/classification.py:1870: UserWarning: labels size, 15, does not match size of target_names, 16\n",
      "  .format(len(labels), len(target_names))\n",
      "/home/stud/btech/cse/2016/rsrivatsa.cs16/miniconda3/envs/myenv/lib/python3.6/site-packages/sklearn/metrics/classification.py:1437: UndefinedMetricWarning: Precision and F-score are ill-defined and being set to 0.0 in labels with no predicted samples.\n",
      "  'precision', 'predicted', average, warn_for)\n"
     ]
    },
    {
     "name": "stdout",
     "output_type": "stream",
     "text": [
      "Model: \"sequential_12\"\n",
      "_________________________________________________________________\n",
      "Layer (type)                 Output Shape              Param #   \n",
      "=================================================================\n",
      "embedding_12 (Embedding)     (None, 46, 100)           90000     \n",
      "_________________________________________________________________\n",
      "conv1d_12 (Conv1D)           (None, 42, 64)            32064     \n",
      "_________________________________________________________________\n",
      "max_pooling1d_12 (MaxPooling (None, 8, 64)             0         \n",
      "_________________________________________________________________\n",
      "flatten_12 (Flatten)         (None, 512)               0         \n",
      "_________________________________________________________________\n",
      "dense_23 (Dense)             (None, 64)                32832     \n",
      "_________________________________________________________________\n",
      "dense_24 (Dense)             (None, 17)                1105      \n",
      "=================================================================\n",
      "Total params: 156,001\n",
      "Trainable params: 156,001\n",
      "Non-trainable params: 0\n",
      "_________________________________________________________________\n",
      "None\n"
     ]
    },
    {
     "name": "stderr",
     "output_type": "stream",
     "text": [
      "/home/stud/btech/cse/2016/rsrivatsa.cs16/miniconda3/envs/myenv/lib/python3.6/site-packages/tensorflow_core/python/framework/indexed_slices.py:424: UserWarning: Converting sparse IndexedSlices to a dense Tensor of unknown shape. This may consume a large amount of memory.\n",
      "  \"Converting sparse IndexedSlices to a dense Tensor of unknown shape. \"\n"
     ]
    },
    {
     "name": "stdout",
     "output_type": "stream",
     "text": [
      "893/893 [==============================] - 0s 47us/step\n",
      "Accuracy of config ('tanh', 'tanh'):0.7222844362258911\n",
      "                     precision    recall  f1-score   support\n",
      "\n",
      "       atis_airport       0.00      0.00      0.00        20\n",
      "atis_ground_service       0.00      0.00      0.00        36\n",
      "     atis_flight_no       0.00      0.00      0.00         9\n",
      "      atis_cheapest       0.00      0.00      0.00        49\n",
      "       atis_airfare       0.00      0.00      0.00         3\n",
      "      atis_quantity       0.00      0.00      0.00        10\n",
      "      atis_distance       0.00      0.00      0.00        21\n",
      "      atis_capacity       0.00      0.00      0.00         1\n",
      "   atis_restriction       0.00      0.00      0.00        33\n",
      "   atis_flight_time       0.00      0.00      0.00         6\n",
      "  atis_abbreviation       0.00      0.00      0.00        38\n",
      "          atis_city       0.72      1.00      0.84       645\n",
      "       atis_airline       0.00      0.00      0.00         6\n",
      "        atis_flight       0.00      0.00      0.00         9\n",
      "          atis_meal       0.00      0.00      0.00         7\n",
      "\n",
      "           accuracy                           0.72       893\n",
      "          macro avg       0.05      0.07      0.06       893\n",
      "       weighted avg       0.52      0.72      0.61       893\n",
      "\n"
     ]
    },
    {
     "name": "stderr",
     "output_type": "stream",
     "text": [
      "/home/stud/btech/cse/2016/rsrivatsa.cs16/miniconda3/envs/myenv/lib/python3.6/site-packages/sklearn/metrics/classification.py:1870: UserWarning: labels size, 15, does not match size of target_names, 16\n",
      "  .format(len(labels), len(target_names))\n",
      "/home/stud/btech/cse/2016/rsrivatsa.cs16/miniconda3/envs/myenv/lib/python3.6/site-packages/sklearn/metrics/classification.py:1437: UndefinedMetricWarning: Precision and F-score are ill-defined and being set to 0.0 in labels with no predicted samples.\n",
      "  'precision', 'predicted', average, warn_for)\n"
     ]
    },
    {
     "name": "stdout",
     "output_type": "stream",
     "text": [
      "Model: \"sequential_13\"\n",
      "_________________________________________________________________\n",
      "Layer (type)                 Output Shape              Param #   \n",
      "=================================================================\n",
      "embedding_13 (Embedding)     (None, 46, 100)           90000     \n",
      "_________________________________________________________________\n",
      "conv1d_13 (Conv1D)           (None, 42, 64)            32064     \n",
      "_________________________________________________________________\n",
      "max_pooling1d_13 (MaxPooling (None, 8, 64)             0         \n",
      "_________________________________________________________________\n",
      "flatten_13 (Flatten)         (None, 512)               0         \n",
      "_________________________________________________________________\n",
      "dense_25 (Dense)             (None, 64)                32832     \n",
      "_________________________________________________________________\n",
      "dense_26 (Dense)             (None, 17)                1105      \n",
      "=================================================================\n",
      "Total params: 156,001\n",
      "Trainable params: 156,001\n",
      "Non-trainable params: 0\n",
      "_________________________________________________________________\n",
      "None\n"
     ]
    },
    {
     "name": "stderr",
     "output_type": "stream",
     "text": [
      "/home/stud/btech/cse/2016/rsrivatsa.cs16/miniconda3/envs/myenv/lib/python3.6/site-packages/tensorflow_core/python/framework/indexed_slices.py:424: UserWarning: Converting sparse IndexedSlices to a dense Tensor of unknown shape. This may consume a large amount of memory.\n",
      "  \"Converting sparse IndexedSlices to a dense Tensor of unknown shape. \"\n"
     ]
    },
    {
     "name": "stdout",
     "output_type": "stream",
     "text": [
      "893/893 [==============================] - 0s 49us/step\n",
      "Accuracy of config ('relu', 'tanh'):0.7222844362258911\n",
      "                     precision    recall  f1-score   support\n",
      "\n",
      "       atis_airport       0.00      0.00      0.00        20\n",
      "atis_ground_service       0.00      0.00      0.00        36\n",
      "     atis_flight_no       0.00      0.00      0.00         9\n",
      "      atis_cheapest       0.00      0.00      0.00        49\n",
      "       atis_airfare       0.00      0.00      0.00         3\n",
      "      atis_quantity       0.00      0.00      0.00        10\n",
      "      atis_distance       0.00      0.00      0.00        21\n",
      "      atis_capacity       0.00      0.00      0.00         1\n",
      "   atis_restriction       0.00      0.00      0.00        33\n",
      "   atis_flight_time       0.00      0.00      0.00         6\n",
      "  atis_abbreviation       0.00      0.00      0.00        38\n",
      "          atis_city       0.72      1.00      0.84       645\n",
      "       atis_airline       0.00      0.00      0.00         6\n",
      "        atis_flight       0.00      0.00      0.00         9\n",
      "          atis_meal       0.00      0.00      0.00         7\n",
      "\n",
      "           accuracy                           0.72       893\n",
      "          macro avg       0.05      0.07      0.06       893\n",
      "       weighted avg       0.52      0.72      0.61       893\n",
      "\n"
     ]
    },
    {
     "name": "stderr",
     "output_type": "stream",
     "text": [
      "/home/stud/btech/cse/2016/rsrivatsa.cs16/miniconda3/envs/myenv/lib/python3.6/site-packages/sklearn/metrics/classification.py:1870: UserWarning: labels size, 15, does not match size of target_names, 16\n",
      "  .format(len(labels), len(target_names))\n",
      "/home/stud/btech/cse/2016/rsrivatsa.cs16/miniconda3/envs/myenv/lib/python3.6/site-packages/sklearn/metrics/classification.py:1437: UndefinedMetricWarning: Precision and F-score are ill-defined and being set to 0.0 in labels with no predicted samples.\n",
      "  'precision', 'predicted', average, warn_for)\n"
     ]
    }
   ],
   "source": [
    "act = [('relu','relu'),('tanh','relu'),('tanh','tanh'),('relu','tanh')]\n",
    "print('categorical with softmax')\n",
    "for cfg in act:\n",
    "    model = Sequential()\n",
    "    model.add(InputLayer(input_shape=(mxlen,)))\n",
    "    model.add(Embedding(len(word2idx),100))\n",
    "    model.add(Conv1D(64, 5, activation=cfg[0]))\n",
    "    model.add(MaxPooling1D(5))\n",
    "    model.add(Flatten())\n",
    "    model.add(Dense(units=64, activation=cfg[1]))\n",
    "    model.add(Dense(units=17, activation='softmax'))\n",
    "\n",
    "    model.compile(loss='categorical_crossentropy', optimizer='sgd', metrics=['accuracy'])\n",
    "    print(model.summary())\n",
    "\n",
    "    model.fit(x_tr_ids_pad, y_tr_cat, \n",
    "              epochs=30, batch_size=512, verbose=0,\n",
    "              validation_split=0.2)\n",
    "\n",
    "\n",
    "\n",
    "    scores = model.evaluate(x_te_ids_pad, y_te_cat, verbose=1)\n",
    "    y_hat = model.predict(x_te_ids_pad)\n",
    "\n",
    "    print(\"Accuracy of config {}:{}\".format(cfg, scores[1]))\n",
    "    get_report(y_te_cat,y_hat,tar_names)"
   ]
  },
  {
   "cell_type": "code",
   "execution_count": 42,
   "metadata": {},
   "outputs": [],
   "source": [
    "y_t = np.argmax(y_te_cat,axis=1)"
   ]
  },
  {
   "cell_type": "code",
   "execution_count": 43,
   "metadata": {},
   "outputs": [
    {
     "data": {
      "text/plain": [
       "15"
      ]
     },
     "execution_count": 43,
     "metadata": {},
     "output_type": "execute_result"
    }
   ],
   "source": [
    "len(set(y_t))"
   ]
  },
  {
   "cell_type": "code",
   "execution_count": null,
   "metadata": {},
   "outputs": [],
   "source": []
  }
 ],
 "metadata": {
  "kernelspec": {
   "display_name": "Python 3",
   "language": "python",
   "name": "python3"
  },
  "language_info": {
   "codemirror_mode": {
    "name": "ipython",
    "version": 3
   },
   "file_extension": ".py",
   "mimetype": "text/x-python",
   "name": "python",
   "nbconvert_exporter": "python",
   "pygments_lexer": "ipython3",
   "version": "3.6.9"
  }
 },
 "nbformat": 4,
 "nbformat_minor": 2
}
