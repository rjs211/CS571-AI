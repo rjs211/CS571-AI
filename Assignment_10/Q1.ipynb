{
 "cells": [
  {
   "cell_type": "code",
   "execution_count": 1,
   "metadata": {},
   "outputs": [],
   "source": [
    "import tensorflow as tf\n",
    "\n",
    "import keras as k\n",
    "import numpy as np\n",
    "from keras.utils.np_utils import to_categorical\n",
    "from sklearn.metrics import classification_report\n",
    "\n",
    "from keras.models import Sequential\n",
    "from keras.layers import Dense, Conv1D, MaxPooling1D, Flatten, Embedding,InputLayer\n",
    " "
   ]
  },
  {
   "cell_type": "code",
   "execution_count": 3,
   "metadata": {},
   "outputs": [],
   "source": [
    "def process_sentence(sent):\n",
    "    s = sent.strip().split()\n",
    "    sp = None\n",
    "    for i,word in enumerate(s):\n",
    "        if word == 'EOS':\n",
    "            sp = i\n",
    "            break\n",
    "    sent_tokens = s[1:sp]\n",
    "    label = s[-1]\n",
    "    return sent_tokens, label"
   ]
  },
  {
   "cell_type": "code",
   "execution_count": 5,
   "metadata": {},
   "outputs": [],
   "source": [
    "from nltk import FreqDist"
   ]
  },
  {
   "cell_type": "code",
   "execution_count": 7,
   "metadata": {},
   "outputs": [],
   "source": [
    "with open('ATIS_Train.txt','r')as fd:\n",
    "    data_tr = fd.readlines()"
   ]
  },
  {
   "cell_type": "code",
   "execution_count": 9,
   "metadata": {},
   "outputs": [],
   "source": [
    "with open('ATIS_Test.txt','r')as fd:\n",
    "    data_te = fd.readlines()"
   ]
  },
  {
   "cell_type": "code",
   "execution_count": 71,
   "metadata": {},
   "outputs": [],
   "source": [
    "x_tr_tokens = []\n",
    "y_tr = []\n",
    "x_te_tokens = []\n",
    "y_te = []\n",
    "\n",
    "for sent in data_tr:\n",
    "    s, l = process_sentence(sent)\n",
    "    x_tr_tokens.append(s)\n",
    "    y_tr.append(l)\n",
    "for sent in data_te:\n",
    "    s, l = process_sentence(sent)\n",
    "    x_te_tokens.append(s)\n",
    "    y_te.append(l)"
   ]
  },
  {
   "cell_type": "code",
   "execution_count": 75,
   "metadata": {},
   "outputs": [
    {
     "data": {
      "text/plain": [
       "893"
      ]
     },
     "execution_count": 75,
     "metadata": {},
     "output_type": "execute_result"
    }
   ],
   "source": [
    "len(x_te_tokens)"
   ]
  },
  {
   "cell_type": "code",
   "execution_count": 18,
   "metadata": {},
   "outputs": [],
   "source": [
    "cnt = 0\n",
    "for l in y_tr:\n",
    "    if '#' in l:\n",
    "        cnt+=1"
   ]
  },
  {
   "cell_type": "code",
   "execution_count": 94,
   "metadata": {},
   "outputs": [],
   "source": [
    "y_tr = [j.split('#')[0] for j in y_tr ]"
   ]
  },
  {
   "cell_type": "code",
   "execution_count": 95,
   "metadata": {},
   "outputs": [],
   "source": [
    "y_te = [j.split('#')[0] for j in y_te ]"
   ]
  },
  {
   "cell_type": "code",
   "execution_count": 31,
   "metadata": {},
   "outputs": [],
   "source": [
    "all_tokens = sum(x_tr_tokens,[])"
   ]
  },
  {
   "cell_type": "code",
   "execution_count": 36,
   "metadata": {},
   "outputs": [],
   "source": [
    "fdist = FreqDist(all_tokens)"
   ]
  },
  {
   "cell_type": "code",
   "execution_count": 34,
   "metadata": {},
   "outputs": [
    {
     "data": {
      "text/plain": [
       "4978"
      ]
     },
     "execution_count": 34,
     "metadata": {},
     "output_type": "execute_result"
    }
   ],
   "source": [
    "x_tr_tokens.__len__()"
   ]
  },
  {
   "cell_type": "code",
   "execution_count": 40,
   "metadata": {},
   "outputs": [
    {
     "data": {
      "text/plain": [
       "('scenario', 1)"
      ]
     },
     "execution_count": 40,
     "metadata": {},
     "output_type": "execute_result"
    }
   ],
   "source": [
    "fdist.most_common(4000)[-1]"
   ]
  },
  {
   "cell_type": "code",
   "execution_count": 49,
   "metadata": {},
   "outputs": [],
   "source": [
    "vocab = set(all_tokens)"
   ]
  },
  {
   "cell_type": "code",
   "execution_count": 47,
   "metadata": {},
   "outputs": [],
   "source": [
    "word2idx = dict()"
   ]
  },
  {
   "cell_type": "code",
   "execution_count": 96,
   "metadata": {},
   "outputs": [],
   "source": [
    "lab2ids = {lab:i for i,lab in enumerate(set(y_tr))}"
   ]
  },
  {
   "cell_type": "code",
   "execution_count": 97,
   "metadata": {},
   "outputs": [
    {
     "data": {
      "text/plain": [
       "{'atis_airline': 0,\n",
       " 'atis_airport': 1,\n",
       " 'atis_distance': 2,\n",
       " 'atis_ground_service': 3,\n",
       " 'atis_cheapest': 4,\n",
       " 'atis_aircraft': 5,\n",
       " 'atis_flight_time': 6,\n",
       " 'atis_ground_fare': 7,\n",
       " 'atis_city': 8,\n",
       " 'atis_abbreviation': 9,\n",
       " 'atis_airfare': 10,\n",
       " 'atis_flight_no': 11,\n",
       " 'atis_meal': 12,\n",
       " 'atis_quantity': 13,\n",
       " 'atis_flight': 14,\n",
       " 'atis_capacity': 15,\n",
       " 'atis_restriction': 16}"
      ]
     },
     "execution_count": 97,
     "metadata": {},
     "output_type": "execute_result"
    }
   ],
   "source": [
    "lab2ids"
   ]
  },
  {
   "cell_type": "code",
   "execution_count": 48,
   "metadata": {},
   "outputs": [],
   "source": [
    "word2idx['<pad>'] = 0\n",
    "word2idx['<unk>'] = 1"
   ]
  },
  {
   "cell_type": "code",
   "execution_count": 52,
   "metadata": {},
   "outputs": [],
   "source": [
    "for i,word in enumerate(vocab):\n",
    "    word2idx[word]=i+2"
   ]
  },
  {
   "cell_type": "code",
   "execution_count": 70,
   "metadata": {},
   "outputs": [],
   "source": [
    "mxlen=0\n",
    "for sent in x_tr_tokens:\n",
    "    mxlen = max(len(sent),mxlen)"
   ]
  },
  {
   "cell_type": "code",
   "execution_count": 66,
   "metadata": {},
   "outputs": [],
   "source": [
    "x_tr_ids = [ [word2idx[word] for word in sent] for sent in x_tr_tokens ]"
   ]
  },
  {
   "cell_type": "code",
   "execution_count": 76,
   "metadata": {},
   "outputs": [],
   "source": [
    "x_te_ids = [ [word2idx.get(word,1) for word in sent] for sent in x_te_tokens ]"
   ]
  },
  {
   "cell_type": "code",
   "execution_count": 100,
   "metadata": {},
   "outputs": [],
   "source": [
    "y_tr_idx = np.asarray([lab2ids[lab] for lab in y_tr ])\n",
    "y_te_idx = np.asarray([lab2ids.get(lab,0) for lab in y_te ])"
   ]
  },
  {
   "cell_type": "code",
   "execution_count": 85,
   "metadata": {},
   "outputs": [],
   "source": [
    "x_tr_ids_pad = []\n",
    "for sent in x_tr_ids:\n",
    "    ln = len(sent)\n",
    "    toadd = mxlen-ln\n",
    "    new = [0]*toadd\n",
    "    new = sent+new\n",
    "    x_tr_ids_pad.append(np.asarray(new,dtype = np.int32))"
   ]
  },
  {
   "cell_type": "code",
   "execution_count": 86,
   "metadata": {},
   "outputs": [],
   "source": [
    "x_te_ids_pad = []\n",
    "for sent in x_te_ids:\n",
    "    sent = sent[:mxlen]\n",
    "    ln = len(sent)\n",
    "    toadd = mxlen-ln\n",
    "    new = [0]*toadd\n",
    "    new = sent+new\n",
    "    x_te_ids_pad.append(np.asarray(new,dtype = np.int32))"
   ]
  },
  {
   "cell_type": "code",
   "execution_count": 87,
   "metadata": {},
   "outputs": [],
   "source": [
    "x_te_ids_pad = np.asarray(x_te_ids_pad)\n",
    "x_tr_ids_pad = np.asarray(x_tr_ids_pad)"
   ]
  },
  {
   "cell_type": "code",
   "execution_count": 88,
   "metadata": {},
   "outputs": [
    {
     "data": {
      "text/plain": [
       "(893, 46)"
      ]
     },
     "execution_count": 88,
     "metadata": {},
     "output_type": "execute_result"
    }
   ],
   "source": [
    "x_te_ids_pad.shape"
   ]
  },
  {
   "cell_type": "code",
   "execution_count": 89,
   "metadata": {},
   "outputs": [
    {
     "data": {
      "text/plain": [
       "(4978, 46)"
      ]
     },
     "execution_count": 89,
     "metadata": {},
     "output_type": "execute_result"
    }
   ],
   "source": [
    "x_tr_ids_pad.shape"
   ]
  },
  {
   "cell_type": "code",
   "execution_count": 104,
   "metadata": {},
   "outputs": [],
   "source": [
    "y_tr_cat = to_categorical(y_tr_idx, num_classes=17)\n",
    "y_te_cat = to_categorical(y_te_idx, num_classes=17)"
   ]
  },
  {
   "cell_type": "code",
   "execution_count": 111,
   "metadata": {},
   "outputs": [
    {
     "name": "stdout",
     "output_type": "stream",
     "text": [
      "Model: \"sequential_2\"\n",
      "_________________________________________________________________\n",
      "Layer (type)                 Output Shape              Param #   \n",
      "=================================================================\n",
      "embedding_2 (Embedding)      (None, 46, 100)           90000     \n",
      "_________________________________________________________________\n",
      "conv1d_2 (Conv1D)            (None, 42, 64)            32064     \n",
      "_________________________________________________________________\n",
      "max_pooling1d_2 (MaxPooling1 (None, 8, 64)             0         \n",
      "_________________________________________________________________\n",
      "flatten_2 (Flatten)          (None, 512)               0         \n",
      "_________________________________________________________________\n",
      "dense_1 (Dense)              (None, 64)                32832     \n",
      "_________________________________________________________________\n",
      "dense_2 (Dense)              (None, 17)                1105      \n",
      "=================================================================\n",
      "Total params: 156,001\n",
      "Trainable params: 156,001\n",
      "Non-trainable params: 0\n",
      "_________________________________________________________________\n",
      "None\n"
     ]
    }
   ],
   "source": [
    "act = [('relu','relu'),('','relu'),('relu','relu'),('relu','relu')]\n",
    "print('binary with sigmoid')\n",
    "model = Sequential()\n",
    "model.add(InputLayer(input_shape=(mxlen,)))\n",
    "model.add(Embedding(len(word2idx),100))\n",
    "model.add(Conv1D(64, 5, activation='relu'))\n",
    "model.add(MaxPooling1D(5))\n",
    "model.add(Flatten())\n",
    "model.add(Dense(units=64, activation='relu'))\n",
    "model.add(Dense(units=17, activation='sigmoid'))\n",
    " \n",
    "model.compile(loss='binary_crossentropy', optimizer='adam', metrics=['accuracy'])\n",
    "print(model.summary())\n",
    "\n",
    "model.fit(x_tr_ids_pad, y_tr_cat, \n",
    "          epochs=3, batch_size=512, verbose=1,\n",
    "          validation_split=0.2)\n",
    " \n",
    "\n",
    "\n",
    "scores = model.evaluate(x_te_ids_pad, y_te_cat, verbose=1)\n",
    "print(\"Accuracy:\", scores[1]) \n"
   ]
  },
  {
   "cell_type": "code",
   "execution_count": 118,
   "metadata": {},
   "outputs": [
    {
     "name": "stdout",
     "output_type": "stream",
     "text": [
      "categorical with softmax\n",
      "Model: \"sequential_4\"\n",
      "_________________________________________________________________\n",
      "Layer (type)                 Output Shape              Param #   \n",
      "=================================================================\n",
      "embedding_4 (Embedding)      (None, 46, 100)           90000     \n",
      "_________________________________________________________________\n",
      "conv1d_4 (Conv1D)            (None, 42, 64)            32064     \n",
      "_________________________________________________________________\n",
      "max_pooling1d_4 (MaxPooling1 (None, 8, 64)             0         \n",
      "_________________________________________________________________\n",
      "flatten_4 (Flatten)          (None, 512)               0         \n",
      "_________________________________________________________________\n",
      "dense_5 (Dense)              (None, 64)                32832     \n",
      "_________________________________________________________________\n",
      "dense_6 (Dense)              (None, 17)                1105      \n",
      "=================================================================\n",
      "Total params: 156,001\n",
      "Trainable params: 156,001\n",
      "Non-trainable params: 0\n",
      "_________________________________________________________________\n",
      "None\n"
     ]
    },
    {
     "name": "stderr",
     "output_type": "stream",
     "text": [
      "/home/stud/btech/cse/2016/rsrivatsa.cs16/miniconda3/envs/myenv/lib/python3.6/site-packages/tensorflow_core/python/framework/indexed_slices.py:424: UserWarning: Converting sparse IndexedSlices to a dense Tensor of unknown shape. This may consume a large amount of memory.\n",
      "  \"Converting sparse IndexedSlices to a dense Tensor of unknown shape. \"\n"
     ]
    },
    {
     "name": "stdout",
     "output_type": "stream",
     "text": [
      "Train on 3982 samples, validate on 996 samples\n",
      "Epoch 1/30\n",
      "3982/3982 [==============================] - 0s 83us/step - loss: 2.5772 - accuracy: 0.6291 - val_loss: 2.1201 - val_accuracy: 0.7289\n",
      "Epoch 2/30\n",
      "3982/3982 [==============================] - 0s 41us/step - loss: 1.5893 - accuracy: 0.7436 - val_loss: 1.2270 - val_accuracy: 0.7289\n",
      "Epoch 3/30\n",
      "3982/3982 [==============================] - 0s 36us/step - loss: 1.2448 - accuracy: 0.7436 - val_loss: 1.1875 - val_accuracy: 0.7289\n",
      "Epoch 4/30\n",
      "3982/3982 [==============================] - 0s 34us/step - loss: 1.0971 - accuracy: 0.7436 - val_loss: 1.0926 - val_accuracy: 0.7289\n",
      "Epoch 5/30\n",
      "3982/3982 [==============================] - 0s 33us/step - loss: 1.0326 - accuracy: 0.7436 - val_loss: 1.0188 - val_accuracy: 0.7289\n",
      "Epoch 6/30\n",
      "3982/3982 [==============================] - 0s 34us/step - loss: 0.9621 - accuracy: 0.7436 - val_loss: 0.9716 - val_accuracy: 0.7289\n",
      "Epoch 7/30\n",
      "3982/3982 [==============================] - 0s 36us/step - loss: 0.8919 - accuracy: 0.7436 - val_loss: 0.8936 - val_accuracy: 0.7289\n",
      "Epoch 8/30\n",
      "3982/3982 [==============================] - 0s 35us/step - loss: 0.8191 - accuracy: 0.7474 - val_loss: 0.8259 - val_accuracy: 0.7430\n",
      "Epoch 9/30\n",
      "3982/3982 [==============================] - 0s 36us/step - loss: 0.7510 - accuracy: 0.7667 - val_loss: 0.7616 - val_accuracy: 0.7691\n",
      "Epoch 10/30\n",
      "3982/3982 [==============================] - 0s 34us/step - loss: 0.6834 - accuracy: 0.7828 - val_loss: 0.7015 - val_accuracy: 0.7952\n",
      "Epoch 11/30\n",
      "3982/3982 [==============================] - 0s 34us/step - loss: 0.6199 - accuracy: 0.8230 - val_loss: 0.6428 - val_accuracy: 0.8333\n",
      "Epoch 12/30\n",
      "3982/3982 [==============================] - 0s 37us/step - loss: 0.5572 - accuracy: 0.8468 - val_loss: 0.5860 - val_accuracy: 0.8524\n",
      "Epoch 13/30\n",
      "3982/3982 [==============================] - 0s 35us/step - loss: 0.4942 - accuracy: 0.8626 - val_loss: 0.5307 - val_accuracy: 0.8675\n",
      "Epoch 14/30\n",
      "3982/3982 [==============================] - 0s 35us/step - loss: 0.4304 - accuracy: 0.8850 - val_loss: 0.4762 - val_accuracy: 0.8896\n",
      "Epoch 15/30\n",
      "3982/3982 [==============================] - 0s 34us/step - loss: 0.3712 - accuracy: 0.9038 - val_loss: 0.4299 - val_accuracy: 0.9046\n",
      "Epoch 16/30\n",
      "3982/3982 [==============================] - 0s 36us/step - loss: 0.3208 - accuracy: 0.9181 - val_loss: 0.3922 - val_accuracy: 0.9096\n",
      "Epoch 17/30\n",
      "3982/3982 [==============================] - 0s 36us/step - loss: 0.2767 - accuracy: 0.9294 - val_loss: 0.3583 - val_accuracy: 0.9137\n",
      "Epoch 18/30\n",
      "3982/3982 [==============================] - 0s 38us/step - loss: 0.2383 - accuracy: 0.9390 - val_loss: 0.3268 - val_accuracy: 0.9207\n",
      "Epoch 19/30\n",
      "3982/3982 [==============================] - 0s 35us/step - loss: 0.2039 - accuracy: 0.9458 - val_loss: 0.2994 - val_accuracy: 0.9197\n",
      "Epoch 20/30\n",
      "3982/3982 [==============================] - 0s 37us/step - loss: 0.1749 - accuracy: 0.9533 - val_loss: 0.2770 - val_accuracy: 0.9307\n",
      "Epoch 21/30\n",
      "3982/3982 [==============================] - 0s 36us/step - loss: 0.1502 - accuracy: 0.9633 - val_loss: 0.2584 - val_accuracy: 0.9327\n",
      "Epoch 22/30\n",
      "3982/3982 [==============================] - 0s 36us/step - loss: 0.1286 - accuracy: 0.9701 - val_loss: 0.2428 - val_accuracy: 0.9378\n",
      "Epoch 23/30\n",
      "3982/3982 [==============================] - 0s 39us/step - loss: 0.1117 - accuracy: 0.9739 - val_loss: 0.2271 - val_accuracy: 0.9408\n",
      "Epoch 24/30\n",
      "3982/3982 [==============================] - 0s 37us/step - loss: 0.0967 - accuracy: 0.9792 - val_loss: 0.2202 - val_accuracy: 0.9408\n",
      "Epoch 25/30\n",
      "3982/3982 [==============================] - 0s 38us/step - loss: 0.0838 - accuracy: 0.9822 - val_loss: 0.2089 - val_accuracy: 0.9418\n",
      "Epoch 26/30\n",
      "3982/3982 [==============================] - 0s 36us/step - loss: 0.0732 - accuracy: 0.9847 - val_loss: 0.2021 - val_accuracy: 0.9458\n",
      "Epoch 27/30\n",
      "3982/3982 [==============================] - 0s 34us/step - loss: 0.0643 - accuracy: 0.9879 - val_loss: 0.1977 - val_accuracy: 0.9468\n",
      "Epoch 28/30\n",
      "3982/3982 [==============================] - 0s 37us/step - loss: 0.0568 - accuracy: 0.9912 - val_loss: 0.1933 - val_accuracy: 0.9498\n",
      "Epoch 29/30\n",
      "3982/3982 [==============================] - 0s 36us/step - loss: 0.0502 - accuracy: 0.9932 - val_loss: 0.1893 - val_accuracy: 0.9498\n",
      "Epoch 30/30\n",
      "3982/3982 [==============================] - 0s 36us/step - loss: 0.0447 - accuracy: 0.9937 - val_loss: 0.1860 - val_accuracy: 0.9528\n",
      "893/893 [==============================] - 0s 34us/step\n",
      "Accuracy: 0.9171332716941833\n"
     ]
    }
   ],
   "source": [
    "act = [('relu','relu'),('','relu'),('relu','relu'),('relu','relu')]\n",
    "print('categorical with softmax')\n",
    "model = Sequential()\n",
    "model.add(InputLayer(input_shape=(mxlen,)))\n",
    "model.add(Embedding(len(word2idx),100))\n",
    "model.add(Conv1D(64, 5, activation='relu'))\n",
    "model.add(MaxPooling1D(5))\n",
    "model.add(Flatten())\n",
    "model.add(Dense(units=64, activation='relu'))\n",
    "model.add(Dense(units=17, activation='softmax'))\n",
    " \n",
    "model.compile(loss='categorical_crossentropy', optimizer='adam', metrics=['accuracy'])\n",
    "print(model.summary())\n",
    "\n",
    "model.fit(x_tr_ids_pad, y_tr_cat, \n",
    "          epochs=30, batch_size=512, verbose=1,\n",
    "          validation_split=0.2)\n",
    " \n",
    "\n",
    "\n",
    "scores = model.evaluate(x_te_ids_pad, y_te_cat, verbose=1)\n",
    "y_hat = model.predict(x_te_ids_pad)\n",
    "\n",
    "print(\"Accuracy:\", scores[1])"
   ]
  },
  {
   "cell_type": "code",
   "execution_count": 140,
   "metadata": {},
   "outputs": [],
   "source": [
    "def get_report(y_true,y_hat,target_names):\n",
    "    y_h = np.argmax(y_hat,axis=1)\n",
    "    y_t = np.argmax(y_true,axis=1)\n",
    "    print(classification_report(y_t, y_h, target_names=target_names[:16],labels = list(set(y_t))))"
   ]
  },
  {
   "cell_type": "code",
   "execution_count": 117,
   "metadata": {},
   "outputs": [
    {
     "name": "stdout",
     "output_type": "stream",
     "text": [
      "Requirement already satisfied: scipy in /home/stud/btech/cse/2016/rsrivatsa.cs16/miniconda3/envs/myenv/lib/python3.6/site-packages (1.3.2)\r\n",
      "Requirement already satisfied: numpy>=1.13.3 in /home/stud/btech/cse/2016/rsrivatsa.cs16/miniconda3/envs/myenv/lib/python3.6/site-packages (from scipy) (1.17.4)\r\n"
     ]
    }
   ],
   "source": [
    "! pip install scipy"
   ]
  },
  {
   "cell_type": "code",
   "execution_count": 120,
   "metadata": {},
   "outputs": [
    {
     "data": {
      "text/plain": [
       "(893,)"
      ]
     },
     "execution_count": 120,
     "metadata": {},
     "output_type": "execute_result"
    }
   ],
   "source": [
    "np.argmax(y_hat,axis=1).shape"
   ]
  },
  {
   "cell_type": "code",
   "execution_count": 122,
   "metadata": {},
   "outputs": [],
   "source": [
    "idx2lab = {j:i for i,j in lab2ids.items()}"
   ]
  },
  {
   "cell_type": "code",
   "execution_count": 127,
   "metadata": {},
   "outputs": [],
   "source": [
    "tar_names = list(idx2lab.values())"
   ]
  },
  {
   "cell_type": "code",
   "execution_count": 129,
   "metadata": {},
   "outputs": [
    {
     "data": {
      "text/plain": [
       "(893, 17)"
      ]
     },
     "execution_count": 129,
     "metadata": {},
     "output_type": "execute_result"
    }
   ],
   "source": [
    "y_hat.shape"
   ]
  },
  {
   "cell_type": "code",
   "execution_count": 130,
   "metadata": {},
   "outputs": [
    {
     "data": {
      "text/plain": [
       "(893, 17)"
      ]
     },
     "execution_count": 130,
     "metadata": {},
     "output_type": "execute_result"
    }
   ],
   "source": [
    "y_te_cat.shape"
   ]
  },
  {
   "cell_type": "code",
   "execution_count": 141,
   "metadata": {
    "scrolled": true
   },
   "outputs": [
    {
     "name": "stdout",
     "output_type": "stream",
     "text": [
      "                     precision    recall  f1-score   support\n",
      "\n",
      "       atis_airline       0.97      0.90      0.94        40\n",
      "       atis_airport       1.00      0.39      0.56        18\n",
      "      atis_distance       0.78      0.70      0.74        10\n",
      "atis_ground_service       0.86      1.00      0.92        36\n",
      "      atis_cheapest       0.75      0.67      0.71         9\n",
      "      atis_aircraft       0.14      1.00      0.25         1\n",
      "   atis_flight_time       0.33      0.57      0.42         7\n",
      "   atis_ground_fare       0.00      0.00      0.00         6\n",
      "          atis_city       0.80      1.00      0.89        33\n",
      "  atis_abbreviation       0.90      0.88      0.89        49\n",
      "       atis_airfare       0.00      0.00      0.00         9\n",
      "     atis_flight_no       0.00      0.00      0.00         6\n",
      "          atis_meal       0.29      0.67      0.40         3\n",
      "      atis_quantity       0.96      0.99      0.97       645\n",
      "        atis_flight       1.00      0.38      0.55        21\n",
      "\n",
      "           accuracy                           0.92       893\n",
      "          macro avg       0.59      0.61      0.55       893\n",
      "       weighted avg       0.91      0.92      0.91       893\n",
      "\n"
     ]
    },
    {
     "name": "stderr",
     "output_type": "stream",
     "text": [
      "/home/stud/btech/cse/2016/rsrivatsa.cs16/miniconda3/envs/myenv/lib/python3.6/site-packages/sklearn/metrics/classification.py:1870: UserWarning: labels size, 15, does not match size of target_names, 16\n",
      "  .format(len(labels), len(target_names))\n",
      "/home/stud/btech/cse/2016/rsrivatsa.cs16/miniconda3/envs/myenv/lib/python3.6/site-packages/sklearn/metrics/classification.py:1437: UndefinedMetricWarning: Precision and F-score are ill-defined and being set to 0.0 in labels with no predicted samples.\n",
      "  'precision', 'predicted', average, warn_for)\n"
     ]
    }
   ],
   "source": [
    "get_report(y_te_cat,y_hat,tar_names)"
   ]
  },
  {
   "cell_type": "code",
   "execution_count": 147,
   "metadata": {},
   "outputs": [],
   "source": [
    "y_t = np.argmax(y_te_cat,axis=1)"
   ]
  },
  {
   "cell_type": "code",
   "execution_count": 148,
   "metadata": {},
   "outputs": [
    {
     "data": {
      "text/plain": [
       "15"
      ]
     },
     "execution_count": 148,
     "metadata": {},
     "output_type": "execute_result"
    }
   ],
   "source": [
    "len(set(y_t))"
   ]
  },
  {
   "cell_type": "code",
   "execution_count": null,
   "metadata": {},
   "outputs": [],
   "source": []
  }
 ],
 "metadata": {
  "kernelspec": {
   "display_name": "Python 3",
   "language": "python",
   "name": "python3"
  },
  "language_info": {
   "codemirror_mode": {
    "name": "ipython",
    "version": 3
   },
   "file_extension": ".py",
   "mimetype": "text/x-python",
   "name": "python",
   "nbconvert_exporter": "python",
   "pygments_lexer": "ipython3",
   "version": "3.6.9"
  }
 },
 "nbformat": 4,
 "nbformat_minor": 2
}
